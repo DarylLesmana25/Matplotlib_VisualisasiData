{
  "nbformat": 4,
  "nbformat_minor": 0,
  "metadata": {
    "colab": {
      "provenance": [],
      "collapsed_sections": [],
      "include_colab_link": true
    },
    "kernelspec": {
      "name": "python3",
      "display_name": "Python 3"
    },
    "language_info": {
      "name": "python"
    }
  },
  "cells": [
    {
      "cell_type": "markdown",
      "metadata": {
        "id": "view-in-github",
        "colab_type": "text"
      },
      "source": [
        "<a href=\"https://colab.research.google.com/github/DarylLesmana25/Matplotlib_2173027_VisualisasiData/blob/main/Matplotlib06_Week4_2173027.ipynb\" target=\"_parent\"><img src=\"https://colab.research.google.com/assets/colab-badge.svg\" alt=\"Open In Colab\"/></a>"
      ]
    },
    {
      "cell_type": "markdown",
      "source": [
        "# **Matplotlib 06**"
      ],
      "metadata": {
        "id": "qAlJepuvG5WK"
      }
    },
    {
      "cell_type": "markdown",
      "source": [
        "# **Belajar Pie Plot | Pie Chart**\n",
        "Source : [Indonesia Belajar](https://youtu.be/SwiFIvvG9Dg)"
      ],
      "metadata": {
        "id": "MEqQtn1wHCVb"
      }
    },
    {
      "cell_type": "markdown",
      "source": [
        "# Import Modules"
      ],
      "metadata": {
        "id": "S-EweAwOHUR-"
      }
    },
    {
      "cell_type": "code",
      "execution_count": 1,
      "metadata": {
        "id": "rLHYZfZUG2Xx"
      },
      "outputs": [],
      "source": [
        "\n",
        "%matplotlib inline"
      ]
    },
    {
      "cell_type": "code",
      "source": [
        "import matplotlib\n",
        "import matplotlib.pyplot as plt\n",
        "\n",
        "\n",
        "print(matplotlib.__version__)"
      ],
      "metadata": {
        "colab": {
          "base_uri": "https://localhost:8080/"
        },
        "id": "RQP84k2SIuDc",
        "outputId": "c88779ac-7b1d-42e0-dc15-96c3c25a2c5a"
      },
      "execution_count": 2,
      "outputs": [
        {
          "output_type": "stream",
          "name": "stdout",
          "text": [
            "3.2.2\n"
          ]
        }
      ]
    },
    {
      "cell_type": "markdown",
      "source": [
        "# Simple Pie Plot"
      ],
      "metadata": {
        "id": "zs4uU3InIx3A"
      }
    },
    {
      "cell_type": "markdown",
      "source": [
        "- Untuk membuat pie plot kita dapat menggunakan fungsi plt.pie()."
      ],
      "metadata": {
        "id": "DnoXmccmI0xg"
      }
    },
    {
      "cell_type": "code",
      "source": [
        "kategori = ['A', 'B', 'C', 'D', 'E']\n",
        "data = [215, 130, 245, 210, 225]"
      ],
      "metadata": {
        "id": "HDTAXsdrI2I8"
      },
      "execution_count": null,
      "outputs": []
    },
    {
      "cell_type": "code",
      "source": [
        "plt.pie(data, # bersifat wajib\n",
        "        labels=kategori, # bersifat optional\n",
        "        autopct='%1.1f%%', # bersifat optional dan menampilkan persentase\n",
        "        startangle=90) # bersifat optional dan untuk mengatur rotaso\n",
        "\n",
        "plt.title('Contoh Pie Plot')\n",
        "\n",
        "plt.show()"
      ],
      "metadata": {
        "colab": {
          "base_uri": "https://localhost:8080/",
          "height": 235
        },
        "id": "BvhOhtBrI4QQ",
        "outputId": "196a32c3-9cc9-4a8b-fa79-4affa448925d"
      },
      "execution_count": 3,
      "outputs": [
        {
          "output_type": "error",
          "ename": "NameError",
          "evalue": "ignored",
          "traceback": [
            "\u001b[0;31m---------------------------------------------------------------------------\u001b[0m",
            "\u001b[0;31mNameError\u001b[0m                                 Traceback (most recent call last)",
            "\u001b[0;32m<ipython-input-3-72a9168bd99b>\u001b[0m in \u001b[0;36m<module>\u001b[0;34m\u001b[0m\n\u001b[0;32m----> 1\u001b[0;31m plt.pie(data, # bersifat wajib\n\u001b[0m\u001b[1;32m      2\u001b[0m         \u001b[0mlabels\u001b[0m\u001b[0;34m=\u001b[0m\u001b[0mkategori\u001b[0m\u001b[0;34m,\u001b[0m \u001b[0;31m# bersifat optional\u001b[0m\u001b[0;34m\u001b[0m\u001b[0;34m\u001b[0m\u001b[0m\n\u001b[1;32m      3\u001b[0m         \u001b[0mautopct\u001b[0m\u001b[0;34m=\u001b[0m\u001b[0;34m'%1.1f%%'\u001b[0m\u001b[0;34m,\u001b[0m \u001b[0;31m# bersifat optional dan menampilkan persentase\u001b[0m\u001b[0;34m\u001b[0m\u001b[0;34m\u001b[0m\u001b[0m\n\u001b[1;32m      4\u001b[0m         startangle=90) # bersifat optional dan untuk mengatur rotaso\n\u001b[1;32m      5\u001b[0m \u001b[0;34m\u001b[0m\u001b[0m\n",
            "\u001b[0;31mNameError\u001b[0m: name 'data' is not defined"
          ]
        }
      ]
    },
    {
      "cell_type": "markdown",
      "source": [
        "# Pengaturan Legend dan Color"
      ],
      "metadata": {
        "id": "NGq0ZyMUI7G4"
      }
    },
    {
      "cell_type": "code",
      "source": [
        "kategori = ['A', 'B', 'C', 'D', 'E']\n",
        "data = [215, 130, 245, 210, 225]\n",
        "warna = ['pink', 'cyan', '#e03364', 'yellowgreen', 'skyblue'] "
      ],
      "metadata": {
        "id": "xxy6U-7iI-1I"
      },
      "execution_count": null,
      "outputs": []
    },
    {
      "cell_type": "code",
      "source": [
        "plt.pie(data, \n",
        "        labels=kategori,\n",
        "        colors=warna, \n",
        "        autopct='%1.1f%%',\n",
        "        startangle=90)\n",
        "\n",
        "plt.legend() \n",
        "plt.title('Contoh Pie Plot')\n",
        "\n",
        "plt.show()"
      ],
      "metadata": {
        "colab": {
          "base_uri": "https://localhost:8080/",
          "height": 264
        },
        "id": "2OMeoIfAJAYm",
        "outputId": "816991a9-6b0b-40e4-eeb9-e85172db3954"
      },
      "execution_count": null,
      "outputs": [
        {
          "output_type": "display_data",
          "data": {
            "text/plain": [
              "<Figure size 432x288 with 1 Axes>"
            ],
            "image/png": "[encoded data removed]"
          },
          "metadata": {}
        }
      ]
    },
    {
      "cell_type": "markdown",
      "source": [
        "# Exploded Pie Plot"
      ],
      "metadata": {
        "id": "pfV9zcF1JCXe"
      }
    },
    {
      "cell_type": "markdown",
      "source": [
        "- Exploded pie plot berarti ada bagian yang ditarik keluar.\n",
        "- Semakin besar explode_car semakin jauh juga potongannya."
      ],
      "metadata": {
        "id": "QwnSp1lMJDQS"
      }
    },
    {
      "cell_type": "code",
      "source": [
        "kategori = ['A', 'B', 'C', 'D', 'E']\n",
        "data = [215, 130, 245, 210, 225]\n",
        "warna = ['pink', 'cyan', '#e03364', 'yellowgreen', 'skyblue']\n",
        "explode_var = [0., 0., 0.2, 0., 0.08] "
      ],
      "metadata": {
        "id": "Zb5bXFxzJKP8"
      },
      "execution_count": null,
      "outputs": []
    },
    {
      "cell_type": "code",
      "source": [
        "plt.pie(data, \n",
        "        labels=kategori,\n",
        "        colors=warna,\n",
        "        explode=explode_var, \n",
        "        autopct='%1.1f%%',\n",
        "        startangle=90)\n",
        "\n",
        "plt.title('Contoh Exploded Pie Plot')\n",
        "\n",
        "plt.show()"
      ],
      "metadata": {
        "colab": {
          "base_uri": "https://localhost:8080/",
          "height": 269
        },
        "id": "41oag7AOJKve",
        "outputId": "0600cac7-3072-43ed-93e5-4211119570d9"
      },
      "execution_count": null,
      "outputs": [
        {
          "output_type": "display_data",
          "data": {
            "text/plain": [
              "<Figure size 432x288 with 1 Axes>"
            ],
            "image/png": "[encoded data removed]"
          },
          "metadata": {}
        }
      ]
    }
  ]
}