{
  "nbformat": 4,
  "nbformat_minor": 0,
  "metadata": {
    "colab": {
      "provenance": [],
      "authorship_tag": "ABX9TyMu2QSsAYxrryuVUuCs7R1C",
      "include_colab_link": true
    },
    "kernelspec": {
      "name": "python3",
      "display_name": "Python 3"
    },
    "language_info": {
      "name": "python"
    }
  },
  "cells": [
    {
      "cell_type": "markdown",
      "metadata": {
        "id": "view-in-github",
        "colab_type": "text"
      },
      "source": [
        "<a href=\"https://colab.research.google.com/github/DarylLesmana25/Matplotlib_2173027_VisualisasiData/blob/main/MatplotlibWeek2_2173027.ipynb\" target=\"_parent\"><img src=\"https://colab.research.google.com/assets/colab-badge.svg\" alt=\"Open In Colab\"/></a>"
      ]
    },
    {
      "cell_type": "markdown",
      "source": [
        "# **Matplotlib 02**\n",
        "\n",
        "Source : Indonesia Belajar\n",
        "\n",
        "**Pengenalan pyplot**\n",
        "\n",
        "\n",
        "*   Pyplot merupakan koleksi atau kumpulan fungsi yang menjadikan Matplotlib dapat bekerja menyerupai MATLAB\n",
        "*   pyplot API secara umum less-flexible bila dibandingkan object-oriented API.\n",
        "\n",
        "**Import Modules**\n",
        "\n",
        "%matplotlib inline digunakan agar setiap grafik ditampilkan secara ‘inline’, dimana itu akan ditampilkan langsung pada cell notebook."
      ],
      "metadata": {
        "id": "Y7-tsIfLgRfu"
      }
    },
    {
      "cell_type": "code",
      "execution_count": 1,
      "metadata": {
        "id": "ocr75KAsgPmw"
      },
      "outputs": [],
      "source": [
        "%matplotlib inline"
      ]
    },
    {
      "cell_type": "code",
      "source": [
        "import matplotlib\n",
        "import matplotlib.pyplot as plt\n",
        "import numpy as np\n",
        "\n",
        "\n",
        "print(matplotlib.__version__)\n",
        "print(np.__version__)"
      ],
      "metadata": {
        "colab": {
          "base_uri": "https://localhost:8080/"
        },
        "id": "g8hcG3KKgvie",
        "outputId": "3b7b77ef-729f-47a8-b4b3-b59c519051ce"
      },
      "execution_count": 2,
      "outputs": [
        {
          "output_type": "stream",
          "name": "stdout",
          "text": [
            "3.2.2\n",
            "1.21.6\n"
          ]
        }
      ]
    },
    {
      "cell_type": "markdown",
      "source": [
        "Membuat Plotting Sederhana"
      ],
      "metadata": {
        "id": "FhibCwROg0Ua"
      }
    },
    {
      "cell_type": "code",
      "source": [
        "plt.plot([2, 5, 7, 8])\n",
        "plt.ylabel('sumbu y')\n",
        "plt.show()"
      ],
      "metadata": {
        "colab": {
          "base_uri": "https://localhost:8080/",
          "height": 265
        },
        "id": "SrYBwS12g1zi",
        "outputId": "08379a83-a46e-4a0f-b38a-38e1c4d57782"
      },
      "execution_count": 3,
      "outputs": [
        {
          "output_type": "display_data",
          "data": {
            "text/plain": [
              "<Figure size 432x288 with 1 Axes>"
            ],
            "image/png": "[encoded data removed]"
          },
          "metadata": {
            "needs_background": "light"
          }
        }
      ]
    },
    {
      "cell_type": "markdown",
      "source": [
        "\n",
        "\n",
        "*   Pemanggilan fungsi plot() dapat dilakukan dengan menyertakan hanya sebuah deret bilangan (list/array) ataupun dua buah deret bilangan (list/array).\n",
        "\n",
        "*   Bila pemanggilan hanya menyertakan sebuah deret bilangan, maka nilai pada deret bilangan tersebut akan dijadikan data point untuk nilai pada sumbu y; sedangkan nilai pada sumbu x akan secara otomatis dibuatkan sebuah deret bilangan terutut dengan nilai dimulai dari nol.\n",
        "\n",
        "\n"
      ],
      "metadata": {
        "id": "ewRjfOHOg4iU"
      }
    },
    {
      "cell_type": "code",
      "source": [
        "plt.plot([2, 3, 4, 7], [5, 4, 2, 16])\n",
        "plt.show()"
      ],
      "metadata": {
        "colab": {
          "base_uri": "https://localhost:8080/",
          "height": 265
        },
        "id": "JKwTVHOIhBX1",
        "outputId": "719e5745-73bc-4c7e-b23b-9b394c36491c"
      },
      "execution_count": 4,
      "outputs": [
        {
          "output_type": "display_data",
          "data": {
            "text/plain": [
              "<Figure size 432x288 with 1 Axes>"
            ],
            "image/png": "[encoded data removed]"
          },
          "metadata": {
            "needs_background": "light"
          }
        }
      ]
    },
    {
      "cell_type": "markdown",
      "source": [
        "* Selain menyertakan dua buah deret bilangan sebagai parameter untuk sumbu x dan y, terdapat parameter ketiga yang bisa kita sertakan untuk mengatur warna dan jenis plotting.\n",
        "\n",
        "* Pengaturan parameter ketiga ini sepenuhnya mengadopsi gaya formatting pada MATLAB.\n",
        "\n",
        "* Nilai default untuk parameter ketiga ini adalah 'b-'.\n",
        "\n",
        "* Parameter ketiga ialah pengatur bentuk marker\n",
        "\n",
        "* Warna dari parameter ketiga dapat di ubah menjadi r (red), g (green), dll.\n",
        "\n",
        "* Bentuk marker dari parameter ketiga dapat di ubah menjadi 'o', ' * ', dll.\n",
        "\n",
        "* Contoh penggunaan parameter ketiga 'b-', 'g*', 'ro'.\n",
        "\n",
        "* Pemanggilan fungsi axis() menyertakan sebuah list [xmin, xmax, ymin, ymax].\n",
        "\n"
      ],
      "metadata": {
        "id": "bNrWvgGnhDZa"
      }
    },
    {
      "cell_type": "code",
      "source": [
        "plt.plot([1, 2, 3, 4], [1, 4, 9, 16], 'go')\n",
        "plt.axis([0, 6, 0, 20])\n",
        "plt.show()"
      ],
      "metadata": {
        "colab": {
          "base_uri": "https://localhost:8080/",
          "height": 269
        },
        "id": "6NdaciVvhURz",
        "outputId": "2fa76d20-2ed6-45e1-ed7e-920f75f292c6"
      },
      "execution_count": 5,
      "outputs": [
        {
          "output_type": "display_data",
          "data": {
            "text/plain": [
              "<Figure size 432x288 with 1 Axes>"
            ],
            "image/png": "[encoded data removed]"
          },
          "metadata": {
            "needs_background": "light"
          }
        }
      ]
    },
    {
      "cell_type": "markdown",
      "source": [
        "* Pada kasus ini, parameter ketiga yang digunakan adalah 'go' yang berarti berwarna 'green, dan berbentuk marker 'o'.\n",
        "* Fungsi axis() bertujuan untuk menentukan batas nilai dari setiap sumbu.\n",
        "* Rentang sumbu x dan sumbu y masing-masing pada kasus ini adalah 0 - 6 dan 0 - 20."
      ],
      "metadata": {
        "id": "JgjZbN5fhW7x"
      }
    },
    {
      "cell_type": "markdown",
      "source": [
        "\n",
        "**Multi plot dalam Satu Pemanggilan Fungsi plot()**\n",
        "\n",
        "* Fungsi arange() memiliki parameter (min_value, max_value, step_value)\n",
        "\n",
        "* Nilai 0. dan 5. menandakan bahwa mereka masing-masing bernilai floating point yaitu '0f dan 5f.'\n",
        "* Nilai 0. dan 5. masing-masing juga merepresentasikan nilai terendah dan nilai tertinggi."
      ],
      "metadata": {
        "id": "34iTlzNThdYu"
      }
    },
    {
      "cell_type": "code",
      "source": [
        "t = np.arange(0., 5., 0.2)\n",
        "t"
      ],
      "metadata": {
        "colab": {
          "base_uri": "https://localhost:8080/"
        },
        "id": "FI8XEdqghpSl",
        "outputId": "83d43048-8651-4b26-d5d7-047bca4d9cc1"
      },
      "execution_count": 6,
      "outputs": [
        {
          "output_type": "execute_result",
          "data": {
            "text/plain": [
              "array([0. , 0.2, 0.4, 0.6, 0.8, 1. , 1.2, 1.4, 1.6, 1.8, 2. , 2.2, 2.4,\n",
              "       2.6, 2.8, 3. , 3.2, 3.4, 3.6, 3.8, 4. , 4.2, 4.4, 4.6, 4.8])"
            ]
          },
          "metadata": {},
          "execution_count": 6
        }
      ]
    },
    {
      "cell_type": "markdown",
      "source": [
        "* Untuk membuat plot dengan garis putus-putus kita dapat menggunakan simbol --.\n",
        "* Untuk membuat plot dengan marker kotak kita dapat menggunakan simbol s (square).\n",
        "* Untuk membuat plot dengan marker segitiga kita dapat menggunakan simbol ^."
      ],
      "metadata": {
        "id": "LT09mHjphrlZ"
      }
    },
    {
      "cell_type": "code",
      "source": [
        "plt.plot(t, t, 'r--')\n",
        "plt.plot(t, t**2, 'bs')\n",
        "plt.plot(t, t**3, 'g^')\n",
        "plt.show()"
      ],
      "metadata": {
        "colab": {
          "base_uri": "https://localhost:8080/",
          "height": 265
        },
        "id": "usxA_j0YhzET",
        "outputId": "69d1009b-88f5-4b4e-ee4e-b091740c97c7"
      },
      "execution_count": 7,
      "outputs": [
        {
          "output_type": "display_data",
          "data": {
            "text/plain": [
              "<Figure size 432x288 with 1 Axes>"
            ],
            "image/png": "[encoded data removed]"
          },
          "metadata": {
            "needs_background": "light"
          }
        }
      ]
    },
    {
      "cell_type": "markdown",
      "source": [
        "Kita juga dapat melakukan multi plot dalam satu pemanggilan fungsi plot()"
      ],
      "metadata": {
        "id": "7I4yoQsyh2Re"
      }
    },
    {
      "cell_type": "code",
      "source": [
        "plt.plot(t, t, 'r--',   \n",
        "         t, t**2, 'bs', \n",
        "         t, t**3, 'g^')  \n",
        "plt.show()"
      ],
      "metadata": {
        "colab": {
          "base_uri": "https://localhost:8080/",
          "height": 265
        },
        "id": "EsV7cYJ-h5-l",
        "outputId": "90abc168-646b-4560-9d90-f93c39073ae9"
      },
      "execution_count": 8,
      "outputs": [
        {
          "output_type": "display_data",
          "data": {
            "text/plain": [
              "<Figure size 432x288 with 1 Axes>"
            ],
            "image/png": "[encoded data removed]"
          },
          "metadata": {
            "needs_background": "light"
          }
        }
      ]
    },
    {
      "cell_type": "markdown",
      "source": [
        "**Plotting dengan keywords**\n",
        "\n",
        "Matplotlib juga memungkinkan kita untuk melakukan plotting sekumpulan nilai yang tersimpan dalam struktur data yang disertai keywords argument (kwargs) seperti pada dictionary dan Pandas DataFrame."
      ],
      "metadata": {
        "id": "Kib5nFiLiBpj"
      }
    },
    {
      "cell_type": "code",
      "source": [
        "data = {'a' : np.arange(50),\n",
        "        'c' : np.random.randint(0,50,50),\n",
        "        'd' : np.random.randn(50)}\n",
        "data['b'] = data ['a'] + 10 * np.random.randn(50)\n",
        "data['d'] = np.abs(data['d']) * 100\n",
        "\n",
        "data"
      ],
      "metadata": {
        "colab": {
          "base_uri": "https://localhost:8080/"
        },
        "id": "IRN8cO6KiFKg",
        "outputId": "f24a1b85-59a7-4c8c-b9a1-14dce4855228"
      },
      "execution_count": 10,
      "outputs": [
        {
          "output_type": "execute_result",
          "data": {
            "text/plain": [
              "{'a': array([ 0,  1,  2,  3,  4,  5,  6,  7,  8,  9, 10, 11, 12, 13, 14, 15, 16,\n",
              "        17, 18, 19, 20, 21, 22, 23, 24, 25, 26, 27, 28, 29, 30, 31, 32, 33,\n",
              "        34, 35, 36, 37, 38, 39, 40, 41, 42, 43, 44, 45, 46, 47, 48, 49]),\n",
              " 'c': array([48,  6, 26, 40,  4, 40, 14, 42, 30, 37, 23, 23, 14, 39, 16, 37, 33,\n",
              "        27,  9, 18, 46,  9, 47, 18, 43, 47, 42, 25, 29,  0, 22, 29, 39, 11,\n",
              "        18, 23, 16, 11, 38, 11, 30, 38, 47, 39, 30, 26, 27, 15, 17, 15]),\n",
              " 'd': array([ 15.50633569, 137.53636194,  71.64196091,   4.99902963,\n",
              "         15.35880905,  31.58292377, 116.25488303,  44.12449585,\n",
              "        135.14587902, 115.98761125,  71.66020167,  63.35463744,\n",
              "        114.65682697,  59.8059157 , 123.57728839,  93.40717332,\n",
              "          2.16289241,  49.41197981,   3.31009652, 245.19849968,\n",
              "        207.90539061,  49.83418387,   9.12399058,  20.46920799,\n",
              "         48.6083205 , 146.52003351,  20.53060938, 109.59819502,\n",
              "         41.89441391, 108.896971  ,  40.90809219,  57.53181981,\n",
              "        133.16996916,  45.90983914,  32.31567573, 153.82732312,\n",
              "         30.5378026 , 134.26705743,  22.91349459,  18.89976303,\n",
              "         21.97404771,  44.70967503,  37.029346  , 150.93671691,\n",
              "          4.75324226,  47.23217408,  33.74036719,   6.37149773,\n",
              "        224.65804467,  12.72786316]),\n",
              " 'b': array([ 15.40065227,   5.52826267,   8.8014329 , -13.72988941,\n",
              "         19.31007124,   2.77855655,  -3.33112353,  23.24085337,\n",
              "         22.44583045,   0.44057169,  18.61611568,  15.41778671,\n",
              "         36.12865405,  20.69964554,   5.95417831,  20.78106551,\n",
              "         13.71166965,  30.12971947,  17.69526805,  20.41340476,\n",
              "         19.08713915,  25.79894308,   3.33728672,  26.14415204,\n",
              "         14.2336949 ,  -0.62822803,   7.15522988,  35.62462128,\n",
              "         31.75693179,  36.39350563,  29.16289729,  17.60726048,\n",
              "         29.22548503,  49.57203071,  55.25946754,  33.99233475,\n",
              "         39.60990088,  35.17109515,  34.59152789,  27.7519186 ,\n",
              "         43.63012632,  32.52273182,  41.13629501,  35.37717628,\n",
              "         57.8665528 ,  44.61676916,  32.35710419,  64.44112078,\n",
              "         56.15389194,  49.78057459])}"
            ]
          },
          "metadata": {},
          "execution_count": 10
        }
      ]
    },
    {
      "cell_type": "code",
      "source": [
        "plt.scatter('a','b', data = data)\n",
        "\n",
        "plt.xlabel('entry a')\n",
        "plt.ylabel('entry b')\n",
        "\n",
        "plt.show()"
      ],
      "metadata": {
        "colab": {
          "base_uri": "https://localhost:8080/",
          "height": 279
        },
        "id": "_JmYXx3eirKG",
        "outputId": "275c86f7-6481-495c-8a27-8c12109c59cb"
      },
      "execution_count": 11,
      "outputs": [
        {
          "output_type": "display_data",
          "data": {
            "text/plain": [
              "<Figure size 432x288 with 1 Axes>"
            ],
            "image/png": "[encoded data removed]"
          },
          "metadata": {
            "needs_background": "light"
          }
        }
      ]
    },
    {
      "cell_type": "code",
      "source": [
        "plt.scatter('a', 'b', c='c', s='d', data=data)\n",
        "plt.xlabel('entry a')\n",
        "plt.ylabel('entry b')\n",
        "plt.show()"
      ],
      "metadata": {
        "colab": {
          "base_uri": "https://localhost:8080/",
          "height": 279
        },
        "id": "HSQPDghVi2a6",
        "outputId": "c2c65d50-7761-457c-8851-267f74408307"
      },
      "execution_count": 12,
      "outputs": [
        {
          "output_type": "display_data",
          "data": {
            "text/plain": [
              "<Figure size 432x288 with 1 Axes>"
            ],
            "image/png": "[encoded data removed]"
          },
          "metadata": {
            "needs_background": "light"
          }
        }
      ]
    },
    {
      "cell_type": "markdown",
      "source": [
        "**Plotting untuk tipe data categorical**\n",
        "\n",
        "Matplotlib juga mendukung plotting untuk data dengan tipe kategori atau biasa dikenal dengan istilah categorical data atau categorical variables."
      ],
      "metadata": {
        "id": "wcRalE_Ui6u_"
      }
    },
    {
      "cell_type": "code",
      "source": [
        "names = ['group_a', 'group_b', 'group_c']\n",
        "values = [1, 10, 100]"
      ],
      "metadata": {
        "id": "V8Vmgvwji-ry"
      },
      "execution_count": 13,
      "outputs": []
    },
    {
      "cell_type": "code",
      "source": [
        "plt.plot(names, values)\n",
        "plt.show()"
      ],
      "metadata": {
        "colab": {
          "base_uri": "https://localhost:8080/",
          "height": 266
        },
        "id": "aClWFDCrjGm9",
        "outputId": "484424eb-34f8-430d-c11b-105e1d7e7a21"
      },
      "execution_count": 19,
      "outputs": [
        {
          "output_type": "display_data",
          "data": {
            "text/plain": [
              "<Figure size 432x288 with 1 Axes>"
            ],
            "image/png": "[encoded data removed]"
          },
          "metadata": {
            "needs_background": "light"
          }
        }
      ]
    },
    {
      "cell_type": "code",
      "source": [
        "plt.scatter(names, values)\n",
        "plt.show()"
      ],
      "metadata": {
        "colab": {
          "base_uri": "https://localhost:8080/",
          "height": 266
        },
        "id": "RpyrETPojJse",
        "outputId": "e8bc6599-adc9-42b0-f99c-41eb27486afc"
      },
      "execution_count": 18,
      "outputs": [
        {
          "output_type": "display_data",
          "data": {
            "text/plain": [
              "<Figure size 432x288 with 1 Axes>"
            ],
            "image/png": "[encoded data removed]"
          },
          "metadata": {
            "needs_background": "light"
          }
        }
      ]
    },
    {
      "cell_type": "code",
      "source": [
        "plt.bar(names, values)\n",
        "plt.show()"
      ],
      "metadata": {
        "colab": {
          "base_uri": "https://localhost:8080/",
          "height": 266
        },
        "id": "wP-CrJzXjN3g",
        "outputId": "44603741-d25f-4160-9cd8-f2d671251821"
      },
      "execution_count": 17,
      "outputs": [
        {
          "output_type": "display_data",
          "data": {
            "text/plain": [
              "<Figure size 432x288 with 1 Axes>"
            ],
            "image/png": "[encoded data removed]"
          },
          "metadata": {
            "needs_background": "light"
          }
        }
      ]
    }
  ]
}