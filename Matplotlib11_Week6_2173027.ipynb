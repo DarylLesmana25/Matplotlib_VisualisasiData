{
  "nbformat": 4,
  "nbformat_minor": 0,
  "metadata": {
    "colab": {
      "provenance": [],
      "include_colab_link": true
    },
    "kernelspec": {
      "name": "python3",
      "display_name": "Python 3"
    },
    "language_info": {
      "name": "python"
    }
  },
  "cells": [
    {
      "cell_type": "markdown",
      "metadata": {
        "id": "view-in-github",
        "colab_type": "text"
      },
      "source": [
        "<a href=\"https://colab.research.google.com/github/DarylLesmana25/Matplotlib_2173027_VisualisasiData/blob/main/Matplotlib11_Week6_2173027.ipynb\" target=\"_parent\"><img src=\"https://colab.research.google.com/assets/colab-badge.svg\" alt=\"Open In Colab\"/></a>"
      ]
    },
    {
      "cell_type": "markdown",
      "source": [
        "# **Matplotlib 11**"
      ],
      "metadata": {
        "id": "h3IdPpMzQ0Z0"
      }
    },
    {
      "cell_type": "markdown",
      "source": [
        "Source : [Indonesia Belajar](https://youtu.be/tmNgRN3Qz1M)"
      ],
      "metadata": {
        "id": "60YlJ_R8Q3O4"
      }
    },
    {
      "cell_type": "markdown",
      "source": [
        "# **Belajar Violin Plot | Violin Chart**"
      ],
      "metadata": {
        "id": "AuJ1PVDwRBtu"
      }
    },
    {
      "cell_type": "markdown",
      "source": [
        "## import modules"
      ],
      "metadata": {
        "id": "Q7ASJLUcRGnF"
      }
    },
    {
      "cell_type": "code",
      "execution_count": 1,
      "metadata": {
        "id": "f2aLsoVuQgxT"
      },
      "outputs": [],
      "source": [
        "# Magic command ini digunakan untuk mendirect output yang nantinya dihasilkan oleh matplotlib agar bisa ditampilkan di halaman jupyter notebook\n",
        "%matplotlib inline\n",
        "import matplotlib"
      ]
    },
    {
      "cell_type": "code",
      "source": [
        "import matplotlib.pyplot as plt\n",
        "import numpy as np\n",
        "\n",
        "#dilakukan untuk pengecekan versi yang digunakan\n",
        "print(matplotlib.__version__)\n",
        "print(np.__version__)"
      ],
      "metadata": {
        "colab": {
          "base_uri": "https://localhost:8080/"
        },
        "id": "qJ9sYDlZRSpL",
        "outputId": "bd47aa24-ee82-4270-a4d8-de4ad8004f7c"
      },
      "execution_count": 2,
      "outputs": [
        {
          "output_type": "stream",
          "name": "stdout",
          "text": [
            "3.2.2\n",
            "1.21.6\n"
          ]
        }
      ]
    },
    {
      "cell_type": "markdown",
      "source": [
        "\n",
        "# Sample Dataset\n",
        "- Menghasilkan data distribusi normal dengan randomization.\n",
        "- Loc untuk mengatur mean;\n",
        "- Scale untuk mengatur standard deviation;\n",
        "- Size untuk mengatur jumlah data point yang dihasilkan."
      ],
      "metadata": {
        "id": "QihOrXszRVUW"
      }
    },
    {
      "cell_type": "code",
      "source": [
        "np.random.seed(2)\n",
        "data = np.random.normal(loc=100, scale=10, size=200) #(Paramater loc = untuk menentukan nilai tengah, paramater scale = untuk menentukan sebaran data, dan size untuk mengatur jumlah data)\n",
        "data"
      ],
      "metadata": {
        "colab": {
          "base_uri": "https://localhost:8080/"
        },
        "id": "wZOV6aodRepp",
        "outputId": "ee600165-347d-4981-8ba3-9bad6c2ead0b"
      },
      "execution_count": 4,
      "outputs": [
        {
          "output_type": "execute_result",
          "data": {
            "text/plain": [
              "array([ 95.83242153,  99.43733173,  78.63803904, 116.40270808,\n",
              "        82.06564415,  91.58252634, 105.02881417,  87.54711913,\n",
              "        89.42047781,  90.90992385, 105.51454045, 122.92208013,\n",
              "       100.41539393,  88.82074555, 105.39058321,  94.038403  ,\n",
              "        99.80869503, 111.7500122 ,  92.52129051, 100.09025251,\n",
              "        91.21892107,  98.4356583 , 102.56570452,  90.11220951,\n",
              "        96.61178034,  97.63815969,  93.62344988,  88.12387714,\n",
              "        85.78782773,  98.46504804,  97.3094304 , 122.31366789,\n",
              "        75.65232423, 101.12726505, 103.70444537, 113.59633863,\n",
              "       105.01857207,  91.55786296, 100.00009761, 105.42352572,\n",
              "        96.86491803, 107.71011738,  81.31909345, 117.31184666,\n",
              "       114.67678011,  96.64322661, 106.1134078 , 100.47970592,\n",
              "        91.70864711, 100.87710218, 110.00365887,  96.18907482,\n",
              "        96.24330577,  99.25529237, 104.3349633 , 112.7837923 ,\n",
              "        93.65320695, 105.08396243, 102.16116006,  81.41387614,\n",
              "        95.80683518,  98.67671102,  99.6042976 , 103.26003433,\n",
              "        79.59676951, 100.46255523,  93.22324423,  85.60560973,\n",
              "       105.2429643 , 107.35279576,  93.46749732, 108.42456282,\n",
              "        96.18483518, 100.66489009,  89.01261053, 115.84487056,\n",
              "        73.40550544,  99.08547377, 106.95119605,  79.66533454,\n",
              "        98.10530735,  99.22781335, 108.24703005, 112.48212921,\n",
              "        95.96107731,  86.15481333, 113.67235424, 112.17885633,\n",
              "        95.37994652, 103.50888494, 103.81866234, 105.66275441,\n",
              "       102.04207979, 114.06696242,  82.62040496, 110.40823953,\n",
              "       103.8047197 ,  97.82864731, 111.73531498,  76.56396809,\n",
              "       111.61521491, 103.86078048,  88.66866726, 104.33092555,\n",
              "        96.95913561, 125.85294868, 118.35332723, 104.40689872,\n",
              "        92.80746159,  94.16585405,  96.74950372,  94.39765494,\n",
              "        90.97753932,  94.09027725,  97.23820508,  94.83116106,\n",
              "        93.0141005 ,  90.71108075, 125.50438236,  85.26826752,\n",
              "        89.78585269, 104.32395701,  96.7641993 , 104.23824708,\n",
              "       107.99179995, 112.62613663, 107.51964849,  90.06239017,\n",
              "       111.09143281,  82.35082272,  98.85578703,  95.01825806,\n",
              "        89.39200964, 105.91666521,  98.16743426, 110.19854729,\n",
              "        85.17534522, 108.46311892, 104.97940148, 101.26504175,\n",
              "        85.81189449,  97.48225882,  84.53325389,  79.17348064,\n",
              "       132.79745401, 109.7086132 , 117.92592852,  95.70986681,\n",
              "       106.9619798 , 106.97416272, 106.01515814, 100.03659491,\n",
              "        97.71752442,  79.30387737, 106.10144086, 104.234969  ,\n",
              "       111.17886733,  97.25757911, 117.41812188,  95.52499124,\n",
              "        87.44572782, 109.38163671,  95.3165374 ,  87.45279693,\n",
              "       101.24823646, 107.56502143, 102.41439629, 104.97425649,\n",
              "       141.08692624, 108.21120877, 115.31760316,  80.14154226,\n",
              "       103.65053516, 107.74082033,  96.35520908,  91.24020522,\n",
              "       103.96520159,  96.85382564,  94.06244417, 111.49500568,\n",
              "       113.35566168, 103.02629336,  95.45772145, 105.14370717,\n",
              "       108.29458431, 106.30621967,  85.4663565 ,  96.61982223,\n",
              "       103.59133332, 106.22220414, 109.60781945, 107.58370347,\n",
              "        88.65681517,  92.92579112,  87.78570835, 118.04476642,\n",
              "       101.80409807, 105.53164274, 110.33029066,  96.70997565])"
            ]
          },
          "metadata": {},
          "execution_count": 4
        }
      ]
    },
    {
      "cell_type": "markdown",
      "source": [
        "# Simple Violin Plot"
      ],
      "metadata": {
        "id": "2vE3LZycRgQg"
      }
    },
    {
      "cell_type": "markdown",
      "source": [
        "- Memakai fungsi plt.violinplot().\n",
        "- Membaca simbol violin plot:\n",
        "  - Garis diatas dan dibawah merepresentasikan nilai tertinggi dan terendah yang dimiliki oleh data."
      ],
      "metadata": {
        "id": "QglGuAwmRidv"
      }
    },
    {
      "cell_type": "code",
      "source": [
        "plt.violinplot(data)\n",
        "\n",
        "plt.title('Simple Violin Plot')\n",
        "plt.xlabel('Sumbu X')\n",
        "plt.ylabel('Sumbu Y')\n",
        "\n",
        "plt.show()"
      ],
      "metadata": {
        "colab": {
          "base_uri": "https://localhost:8080/",
          "height": 295
        },
        "id": "eM-LcPaNRrzj",
        "outputId": "31a2f5fb-ecad-4759-8aab-0ce5425ff656"
      },
      "execution_count": 5,
      "outputs": [
        {
          "output_type": "display_data",
          "data": {
            "text/plain": [
              "<Figure size 432x288 with 1 Axes>"
            ],
            "image/png": "[encoded data removed]"
          },
          "metadata": {
            "needs_background": "light"
          }
        }
      ]
    },
    {
      "cell_type": "markdown",
      "source": [
        "# Pengaturan pada Violin Plot\n",
        "- Parameter showextrema=True digunakan untuk menampilkan garis tengah dan garis yang mengindikasikan nilai max dan min.\n",
        "- Parameter showmeans=True digunakan untuk menampilkan garis means.\n",
        "- Parameter showmedians=True digunakan untuk menampilkan garis medians.\n",
        "- Nilai default parameter quantiles adalah None.\n",
        "- Jangkauan parameter quantiles adalah 0 - 1 atau 0 - 100%."
      ],
      "metadata": {
        "id": "_e1EWJM8RtRu"
      }
    },
    {
      "cell_type": "code",
      "source": [
        "plt.violinplot(data,\n",
        "               showextrema=True,\n",
        "               showmeans=False,\n",
        "               showmedians=False,\n",
        "               quantiles=[0.25, 0.5, 0.75]) # q1, q2, q3\n",
        "\n",
        "plt.title('Violin Plot')\n",
        "plt.xlabel('Sumbu X')\n",
        "plt.ylabel('Sumbu Y')\n",
        "\n",
        "plt.show()"
      ],
      "metadata": {
        "colab": {
          "base_uri": "https://localhost:8080/",
          "height": 295
        },
        "id": "mnudAT8kRztu",
        "outputId": "6a169a85-3659-46ef-fd73-417fede72bc8"
      },
      "execution_count": 6,
      "outputs": [
        {
          "output_type": "display_data",
          "data": {
            "text/plain": [
              "<Figure size 432x288 with 1 Axes>"
            ],
            "image/png": "[encoded data removed]"
          },
          "metadata": {
            "needs_background": "light"
          }
        }
      ]
    },
    {
      "cell_type": "markdown",
      "source": [
        "# Horisontal Violin Plot\n",
        "- Untuk menampilkan plot secara horisontal kita hanya perlu menambahkan parameter vert=False."
      ],
      "metadata": {
        "id": "plFNlrUsR1Wg"
      }
    },
    {
      "cell_type": "code",
      "source": [
        "plt.violinplot(data, vert= False) #nilai vert False maka akan menghasilkan horisontal plot, sebaliknya jika True maka akan menghasilklan vertical plot\n",
        "\n",
        "plt.title('Horisontal Violin Plot')\n",
        "plt.xlabel('Sumbu X')\n",
        "plt.ylabel('Sumbu Y')\n",
        "\n",
        "plt.show()"
      ],
      "metadata": {
        "colab": {
          "base_uri": "https://localhost:8080/",
          "height": 295
        },
        "id": "wzB-EWvkR5PW",
        "outputId": "d18182f7-b7af-411a-e68a-f033ed900457"
      },
      "execution_count": 11,
      "outputs": [
        {
          "output_type": "display_data",
          "data": {
            "text/plain": [
              "<Figure size 432x288 with 1 Axes>"
            ],
            "image/png": "[encoded data removed]"
          },
          "metadata": {
            "needs_background": "light"
          }
        }
      ]
    },
    {
      "cell_type": "markdown",
      "source": [
        "# Multiple Violin Plot\n",
        "- Untuk membuat multiple plot kita hanya perlu memasukkan data yang kita miliki kedalam sebuah list.\n",
        "- Kemudian lakukan plotting seperti biasa."
      ],
      "metadata": {
        "id": "Esuv6RgAR8Ce"
      }
    },
    {
      "cell_type": "code",
      "source": [
        "np.random.seed(10)\n",
        "data1 = np.random.normal(100, 10, 200)\n",
        "data2 = np.random.normal(80, 30, 200)\n",
        "data3 = np.random.normal(90, 20, 200)\n",
        "data4 = np.random.normal(70, 25, 200)\n",
        "\n",
        "data = [data1, data2, data3, data4]"
      ],
      "metadata": {
        "id": "nVWRh-S6SBLI"
      },
      "execution_count": 8,
      "outputs": []
    },
    {
      "cell_type": "code",
      "source": [
        "plt.violinplot(data)\n",
        "\n",
        "plt.title('Multiple Violin Plot')\n",
        "plt.xlabel('Sumbu X')\n",
        "plt.ylabel('Sumbu Y')\n",
        "\n",
        "plt.show()"
      ],
      "metadata": {
        "colab": {
          "base_uri": "https://localhost:8080/",
          "height": 295
        },
        "id": "nJD1UpldSC5z",
        "outputId": "82b8c5da-b6ae-442a-bc24-7fdacbb31af6"
      },
      "execution_count": 12,
      "outputs": [
        {
          "output_type": "display_data",
          "data": {
            "text/plain": [
              "<Figure size 432x288 with 1 Axes>"
            ],
            "image/png": "[encoded data removed]"
          },
          "metadata": {
            "needs_background": "light"
          }
        }
      ]
    }
  ]
}